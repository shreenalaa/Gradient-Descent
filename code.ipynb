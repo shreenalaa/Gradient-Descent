{
 "cells": [
  {
   "cell_type": "code",
   "execution_count": 1,
   "metadata": {},
   "outputs": [],
   "source": [
    "import numpy as np \n",
    "import pandas as pd \n",
    "import matplotlib.pyplot as plt"
   ]
  },
  {
   "cell_type": "code",
   "execution_count": 17,
   "metadata": {},
   "outputs": [],
   "source": [
    "\n",
    "\n",
    "def fit_model(x, b):\n",
    "    n = len(x)\n",
    "    x_bias = np.ones((n, 1))\n",
    "    x = np.c_[x_bias, x]\n",
    "    y_hat = x.dot(b)\n",
    "    return y_hat\n",
    "\n",
    "\n",
    "def square_error(y, y_hat):\n",
    "    error = y - y_hat\n",
    "    square = error.dot(error.T)\n",
    "    return square\n",
    "\n",
    "\n",
    "def r_sqaure(ssr, sst):\n",
    "    return ssr / sst\n",
    "\n",
    "\n",
    "def find_betas(x, y):\n",
    "    n = len(x)\n",
    "    x_bias = np.ones((n, 1))\n",
    "    x = np.c_[x_bias, x]\n",
    "    betas = np.linalg.inv(x.T.dot(x)).dot(x.T).dot(y)\n",
    "    return betas\n",
    "\n",
    "\n",
    "def predict(x, betas):\n",
    "    n = len(x)\n",
    "    x_bias = np.ones((n, 1))\n",
    "    x = np.c_[x_bias, x]\n",
    "    prediction = x.dot(betas)\n",
    "    return prediction\n",
    "def simple_gradient_descent(alpha,num_iterations ,x,y):   # return values of b0 , b1 \n",
    "   m = len(x)\n",
    "   b0 = 0 \n",
    "   b1 = 0\n",
    "  \n",
    "   for i in range(num_iterations):    # update >> steps to reach to the minimum\n",
    "      y_hat = b0 + b1*x\n",
    "      b0 = b0 - alpha*(1/m)*sum(y_hat - y)\n",
    "      b1 = b1 - alpha*(1/m)*sum((y_hat - y) *x)\n",
    "\n",
    "   return b0 , b1\n",
    "\n",
    "def gradient_descent(alpha,num_iterations ,x,y): \n",
    "       m = x.shape[0]\n",
    "       k = x.shape[1]\n",
    "       x_bias = np.ones((m,1))\n",
    "       x = np.c_[x_bias,x]\n",
    "       b = np.random.randn(k,1)\n",
    "       \n",
    "       for i in range(num_iterations):\n",
    "           b = b - alpha*(1/m)*x.T.dot(x.dot(b)-y)\n",
    "\n",
    "       return b "
   ]
  },
  {
   "cell_type": "code",
   "execution_count": 6,
   "metadata": {},
   "outputs": [
    {
     "data": {
      "text/plain": [
       "<matplotlib.collections.PathCollection at 0x1fe4fa29e20>"
      ]
     },
     "execution_count": 6,
     "metadata": {},
     "output_type": "execute_result"
    },
    {
     "data": {
      "image/png": "[encoded data removed]",
      "text/plain": [
       "<Figure size 432x288 with 1 Axes>"
      ]
     },
     "metadata": {
      "needs_background": "light"
     },
     "output_type": "display_data"
    }
   ],
   "source": [
    "x = np.random.randn(100)\n",
    "y = 4*x + 3 + 2*np.random.randn(100)\n",
    "plt.scatter(x,y)"
   ]
  },
  {
   "cell_type": "code",
   "execution_count": 8,
   "metadata": {},
   "outputs": [
    {
     "data": {
      "text/plain": [
       "(3.128474769478742, 4.143093135384585)"
      ]
     },
     "execution_count": 8,
     "metadata": {},
     "output_type": "execute_result"
    }
   ],
   "source": [
    "b0 , b1 = simple_gradient_descent(alpha = 0.1 , num_iterations = 1000, x = x , y = y  )\n",
    "b0 , b1"
   ]
  },
  {
   "cell_type": "code",
   "execution_count": 12,
   "metadata": {},
   "outputs": [],
   "source": [
    "x = np.random.randn(100,5)\n",
    "y = 10*x + 16 + 2*np.random.randn(100,5)\n",
    "y= y[0:,0:1]"
   ]
  },
  {
   "cell_type": "code",
   "execution_count": 18,
   "metadata": {},
   "outputs": [
    {
     "ename": "ValueError",
     "evalue": "shapes (100,6) and (5,1) not aligned: 6 (dim 1) != 5 (dim 0)",
     "output_type": "error",
     "traceback": [
      "\u001b[1;31m---------------------------------------------------------------------------\u001b[0m",
      "\u001b[1;31mValueError\u001b[0m                                Traceback (most recent call last)",
      "\u001b[1;32m~\\AppData\\Local\\Temp/ipykernel_6864/3308503078.py\u001b[0m in \u001b[0;36m<module>\u001b[1;34m\u001b[0m\n\u001b[1;32m----> 1\u001b[1;33m \u001b[0mb\u001b[0m \u001b[1;33m=\u001b[0m \u001b[0mgradient_descent\u001b[0m\u001b[1;33m(\u001b[0m\u001b[0malpha\u001b[0m \u001b[1;33m=\u001b[0m\u001b[1;36m.1\u001b[0m \u001b[1;33m,\u001b[0m\u001b[0mnum_iterations\u001b[0m\u001b[1;33m=\u001b[0m\u001b[1;36m100\u001b[0m\u001b[1;33m,\u001b[0m \u001b[0mx\u001b[0m \u001b[1;33m=\u001b[0m\u001b[0mx\u001b[0m \u001b[1;33m,\u001b[0m \u001b[0my\u001b[0m\u001b[1;33m=\u001b[0m\u001b[0my\u001b[0m\u001b[1;33m)\u001b[0m\u001b[1;33m\u001b[0m\u001b[1;33m\u001b[0m\u001b[0m\n\u001b[0m\u001b[0;32m      2\u001b[0m \u001b[0mb\u001b[0m\u001b[1;33m\u001b[0m\u001b[1;33m\u001b[0m\u001b[0m\n",
      "\u001b[1;32m~\\AppData\\Local\\Temp/ipykernel_6864/3286872748.py\u001b[0m in \u001b[0;36mgradient_descent\u001b[1;34m(alpha, num_iterations, x, y)\u001b[0m\n\u001b[0;32m     51\u001b[0m \u001b[1;33m\u001b[0m\u001b[0m\n\u001b[0;32m     52\u001b[0m        \u001b[1;32mfor\u001b[0m \u001b[0mi\u001b[0m \u001b[1;32min\u001b[0m \u001b[0mrange\u001b[0m\u001b[1;33m(\u001b[0m\u001b[0mnum_iterations\u001b[0m\u001b[1;33m)\u001b[0m\u001b[1;33m:\u001b[0m\u001b[1;33m\u001b[0m\u001b[1;33m\u001b[0m\u001b[0m\n\u001b[1;32m---> 53\u001b[1;33m            \u001b[0mb\u001b[0m \u001b[1;33m=\u001b[0m \u001b[0mb\u001b[0m \u001b[1;33m-\u001b[0m \u001b[0malpha\u001b[0m\u001b[1;33m*\u001b[0m\u001b[1;33m(\u001b[0m\u001b[1;36m1\u001b[0m\u001b[1;33m/\u001b[0m\u001b[0mm\u001b[0m\u001b[1;33m)\u001b[0m\u001b[1;33m*\u001b[0m\u001b[0mx\u001b[0m\u001b[1;33m.\u001b[0m\u001b[0mT\u001b[0m\u001b[1;33m.\u001b[0m\u001b[0mdot\u001b[0m\u001b[1;33m(\u001b[0m\u001b[0mx\u001b[0m\u001b[1;33m.\u001b[0m\u001b[0mdot\u001b[0m\u001b[1;33m(\u001b[0m\u001b[0mb\u001b[0m\u001b[1;33m)\u001b[0m\u001b[1;33m-\u001b[0m\u001b[0my\u001b[0m\u001b[1;33m)\u001b[0m\u001b[1;33m\u001b[0m\u001b[1;33m\u001b[0m\u001b[0m\n\u001b[0m\u001b[0;32m     54\u001b[0m \u001b[1;33m\u001b[0m\u001b[0m\n\u001b[0;32m     55\u001b[0m        \u001b[1;32mreturn\u001b[0m \u001b[0mb\u001b[0m\u001b[1;33m\u001b[0m\u001b[1;33m\u001b[0m\u001b[0m\n",
      "\u001b[1;31mValueError\u001b[0m: shapes (100,6) and (5,1) not aligned: 6 (dim 1) != 5 (dim 0)"
     ]
    }
   ],
   "source": [
    "b = gradient_descent(alpha =.1 ,num_iterations=100, x =x , y=y)\n",
    "b"
   ]
  }
 ],
 "metadata": {
  "kernelspec": {
   "display_name": "base",
   "language": "python",
   "name": "python3"
  },
  "language_info": {
   "codemirror_mode": {
    "name": "ipython",
    "version": 3
   },
   "file_extension": ".py",
   "mimetype": "text/x-python",
   "name": "python",
   "nbconvert_exporter": "python",
   "pygments_lexer": "ipython3",
   "version": "3.9.7"
  },
  "orig_nbformat": 4,
  "vscode": {
   "interpreter": {
    "hash": "ea33021c05eb23a2b88cb3fb6e056db44a65c962e399ff53d9da153d9495dcf8"
   }
  }
 },
 "nbformat": 4,
 "nbformat_minor": 2
}
